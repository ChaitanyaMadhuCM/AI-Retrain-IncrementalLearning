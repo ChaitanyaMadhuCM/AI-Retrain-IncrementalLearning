{
 "cells": [
  {
   "cell_type": "markdown",
   "id": "f9913508-0243-44cb-a837-1b02300b8bf7",
   "metadata": {},
   "source": [
    "# Overview\n",
    "\n",
    "**\"Incremental Learning\"** is a methodology in machine learning where a pre-trained model can adapt and improve its performance over time by learning from new test data and user feedback. This process occurs in real-time production environments without the need to retrain the model from scratch.\n",
    "\n",
    "________\n",
    "\n",
    "#### Segment-1: Training a Baseline ML Model for Production \n",
    "\n",
    "To begin, import and train the machine learning model from a retrain-compatible library such as `creme`. This model is version 1.0 that gets deployed onto the production environment. \n",
    "\n",
    "#### Segment-2: Incrementally Retrain the Production ML Model\n",
    "\n",
    "Next, load the trained machine learning model and implement incremental retraining by sequentially providing new test data samples. The model retrains on new samples, one at a time, to gain new knowledge on top of already learned patterns. \n",
    "\n",
    "#### Segment-3: Apply the Incrementally Retrained ML Model in Production \n",
    "\n",
    "Finally, utilize the incrementally retrained model i.e., version 1.1 in the production environment to benefit from its improved knowledge. Repeat the Segments 2 and 3 periodically to keep the model up to date on latest data. \n"
   ]
  },
  {
   "cell_type": "markdown",
   "id": "22c037a5-3f40-4952-a997-d3c5cb1a5ac4",
   "metadata": {},
   "source": [
    "### DISCLAIMER: This notebook exclusively concentrates on \"Iterative Retraining,\" therefore, the data pre-processing and model fine-tuning steps are kept concise and not extensively elaborated upon."
   ]
  },
  {
   "cell_type": "markdown",
   "id": "1c7c8284-4b75-4def-a32e-20afb49db541",
   "metadata": {},
   "source": [
    "# Segment-1: Training a Baseline ML Model for Production "
   ]
  },
  {
   "cell_type": "code",
   "execution_count": 1,
   "id": "a89dc6a6-f0af-4aa6-8386-6ac017e81e7a",
   "metadata": {},
   "outputs": [],
   "source": [
    "# import libraries \n",
    "import pandas as pd\n",
    "from sklearn.model_selection import train_test_split\n",
    "\n",
    "import math\n",
    "import creme\n",
    "from creme import compose\n",
    "from creme import feature_extraction\n",
    "from creme import naive_bayes\n",
    "from creme import metrics"
   ]
  },
  {
   "cell_type": "code",
   "execution_count": 1,
   "id": "ca081526-45dc-48c7-b77c-4b4bfdac41bb",
   "metadata": {},
   "outputs": [],
   "source": [
    "# import training data \n",
    "messages = pd.read_csv('SMSSpamCollection', sep='\\t', names=[\"label\", \"message\"])"
   ]
  },
  {
   "cell_type": "code",
   "execution_count": 7,
   "id": "622b4bf5-7e55-44fb-bcf3-f4431376990c",
   "metadata": {},
   "outputs": [
    {
     "data": {
      "text/plain": [
       "(5572, 2)"
      ]
     },
     "execution_count": 7,
     "metadata": {},
     "output_type": "execute_result"
    }
   ],
   "source": [
    "messages.shape"
   ]
  },
  {
   "cell_type": "code",
   "execution_count": 8,
   "id": "5afa6e52-f45c-4791-9daf-d97dcf3a0763",
   "metadata": {},
   "outputs": [],
   "source": [
    "# split the datast into train and test sets \n",
    "message_train,message_test=train_test_split(messages)"
   ]
  },
  {
   "cell_type": "code",
   "execution_count": 9,
   "id": "afa7b579-cb60-45e0-a9f1-79fe54d314ea",
   "metadata": {},
   "outputs": [
    {
     "data": {
      "text/html": [
       "<div>\n",
       "<style scoped>\n",
       "    .dataframe tbody tr th:only-of-type {\n",
       "        vertical-align: middle;\n",
       "    }\n",
       "\n",
       "    .dataframe tbody tr th {\n",
       "        vertical-align: top;\n",
       "    }\n",
       "\n",
       "    .dataframe thead th {\n",
       "        text-align: right;\n",
       "    }\n",
       "</style>\n",
       "<table border=\"1\" class=\"dataframe\">\n",
       "  <thead>\n",
       "    <tr style=\"text-align: right;\">\n",
       "      <th></th>\n",
       "      <th>label</th>\n",
       "      <th>message</th>\n",
       "    </tr>\n",
       "  </thead>\n",
       "  <tbody>\n",
       "    <tr>\n",
       "      <th>1092</th>\n",
       "      <td>ham</td>\n",
       "      <td>Please da call me any mistake from my side sor...</td>\n",
       "    </tr>\n",
       "    <tr>\n",
       "      <th>3001</th>\n",
       "      <td>ham</td>\n",
       "      <td>Id onluy matters when getting on from offcampus</td>\n",
       "    </tr>\n",
       "    <tr>\n",
       "      <th>2153</th>\n",
       "      <td>ham</td>\n",
       "      <td>Hi kindly give us back our documents which we ...</td>\n",
       "    </tr>\n",
       "    <tr>\n",
       "      <th>1020</th>\n",
       "      <td>ham</td>\n",
       "      <td>Don know..wait i will check it.</td>\n",
       "    </tr>\n",
       "    <tr>\n",
       "      <th>4191</th>\n",
       "      <td>ham</td>\n",
       "      <td>Sorry, I'll call later</td>\n",
       "    </tr>\n",
       "    <tr>\n",
       "      <th>...</th>\n",
       "      <td>...</td>\n",
       "      <td>...</td>\n",
       "    </tr>\n",
       "    <tr>\n",
       "      <th>2245</th>\n",
       "      <td>ham</td>\n",
       "      <td>No management puzzeles.</td>\n",
       "    </tr>\n",
       "    <tr>\n",
       "      <th>3682</th>\n",
       "      <td>ham</td>\n",
       "      <td>LOL what happens in Vegas stays in vegas</td>\n",
       "    </tr>\n",
       "    <tr>\n",
       "      <th>2327</th>\n",
       "      <td>ham</td>\n",
       "      <td>The Xmas story is peace.. The Xmas msg is love...</td>\n",
       "    </tr>\n",
       "    <tr>\n",
       "      <th>4646</th>\n",
       "      <td>ham</td>\n",
       "      <td>Are you planning to come chennai?</td>\n",
       "    </tr>\n",
       "    <tr>\n",
       "      <th>2349</th>\n",
       "      <td>ham</td>\n",
       "      <td>That seems unnecessarily affectionate</td>\n",
       "    </tr>\n",
       "  </tbody>\n",
       "</table>\n",
       "<p>4179 rows × 2 columns</p>\n",
       "</div>"
      ],
      "text/plain": [
       "     label                                            message\n",
       "1092   ham  Please da call me any mistake from my side sor...\n",
       "3001   ham    Id onluy matters when getting on from offcampus\n",
       "2153   ham  Hi kindly give us back our documents which we ...\n",
       "1020   ham                    Don know..wait i will check it.\n",
       "4191   ham                             Sorry, I'll call later\n",
       "...    ...                                                ...\n",
       "2245   ham                            No management puzzeles.\n",
       "3682   ham           LOL what happens in Vegas stays in vegas\n",
       "2327   ham  The Xmas story is peace.. The Xmas msg is love...\n",
       "4646   ham                  Are you planning to come chennai?\n",
       "2349   ham              That seems unnecessarily affectionate\n",
       "\n",
       "[4179 rows x 2 columns]"
      ]
     },
     "execution_count": 9,
     "metadata": {},
     "output_type": "execute_result"
    }
   ],
   "source": [
    "message_train"
   ]
  },
  {
   "cell_type": "code",
   "execution_count": 10,
   "id": "fac45923-6d07-4e27-9ef5-8a59c399378d",
   "metadata": {},
   "outputs": [],
   "source": [
    "# Convert dataframe to list of tuples\n",
    "messages_train = message_train.to_records(index=False)\n",
    "messages_test=message_test.to_records(index=False)"
   ]
  },
  {
   "cell_type": "code",
   "execution_count": 11,
   "id": "07116497-999e-437f-94f8-cb418db7195f",
   "metadata": {},
   "outputs": [
    {
     "data": {
      "text/plain": [
       "rec.array([('ham', 'Please da call me any mistake from my side sorry da. Pls da goto doctor.'),\n",
       "           ('ham', 'Id onluy matters when getting on from offcampus'),\n",
       "           ('ham', 'Hi kindly give us back our documents which we submitted for loan from STAPATI'),\n",
       "           ...,\n",
       "           ('ham', 'The Xmas story is peace.. The Xmas msg is love.. The Xmas miracle is jesus.. Hav a blessed month ahead &amp; wish U Merry Xmas...'),\n",
       "           ('ham', 'Are you planning to come chennai?'),\n",
       "           ('ham', 'That seems unnecessarily affectionate')],\n",
       "          dtype=[('label', 'O'), ('message', 'O')])"
      ]
     },
     "execution_count": 11,
     "metadata": {},
     "output_type": "execute_result"
    }
   ],
   "source": [
    "messages_train"
   ]
  },
  {
   "cell_type": "code",
   "execution_count": null,
   "id": "80ba6f07-e5f4-4e6e-a155-16babcae65ed",
   "metadata": {
    "scrolled": true
   },
   "outputs": [],
   "source": [
    "# Create Pipeline: Embedding Model and Prediction Model \n",
    "model = compose.Pipeline(\n",
    "    ('tokenize', feature_extraction.TFIDF(lowercase=False)),\n",
    "    ('nb', naive_bayes.MultinomialNB(alpha=1))\n",
    ")"
   ]
  },
  {
   "cell_type": "code",
   "execution_count": null,
   "id": "fdfa0864-d594-458b-8197-0f246511cfb7",
   "metadata": {},
   "outputs": [],
   "source": [
    "metric=metrics.Accuracy()\n",
    "\n",
    "# model training \n",
    "for label,sentence in messages_train:\n",
    "    model = model.fit_one(sentence, label)\n",
    "    y_pred = model.predict_one(sentence)\n",
    "    metric = metric.update(label, y_pred)\n",
    "   "
   ]
  },
  {
   "cell_type": "code",
   "execution_count": null,
   "id": "fa40ed2a-5a6b-4bdf-ab1e-afebaef07ab2",
   "metadata": {},
   "outputs": [],
   "source": [
    "# Model accuracy on train data \n",
    "metric"
   ]
  },
  {
   "cell_type": "code",
   "execution_count": null,
   "id": "77de00f0-c57c-4432-a809-b396e2be2a0f",
   "metadata": {},
   "outputs": [],
   "source": [
    "### test Data Accuracy\n",
    "test_metric=metrics.Accuracy()\n",
    "for label,sentence in messages_test:\n",
    "    y_pred = model.predict_one(sentence)\n",
    "    test_metric = metric.update(label, y_pred)"
   ]
  },
  {
   "cell_type": "code",
   "execution_count": null,
   "id": "86ec9fbb-a35a-4f23-90f2-eb5b79516bf3",
   "metadata": {},
   "outputs": [],
   "source": [
    "# Model accuracy on test data \n",
    "test_metric"
   ]
  },
  {
   "cell_type": "code",
   "execution_count": null,
   "id": "56ee1e4b-86cd-4b37-a453-5c074012a301",
   "metadata": {},
   "outputs": [],
   "source": [
    "# Real-time Prediction using the ML model V 1.0\n",
    "\n",
    "user_input = \"You are receiving this newsletter due to your subscription request.\"\n",
    "prediction = model.predict_one(user_input)\n",
    "\n",
    "print(prediction) # ham or spam "
   ]
  },
  {
   "cell_type": "markdown",
   "id": "9163a9d3-5f34-4ea1-a313-a841cc684c1d",
   "metadata": {},
   "source": [
    "# Segment-2: Incrementally Retrain the Production ML Model"
   ]
  },
  {
   "cell_type": "code",
   "execution_count": null,
   "id": "98e145b3-3f69-4a0f-8e51-c1c72a931ba2",
   "metadata": {},
   "outputs": [],
   "source": [
    "new_test_samples = {1: [\"Congratulations! You've won a luxury vacation worth $10,000! Click here to claim your prize now!\", \"spam\"], \n",
    "                    2: [\"Get rich quick with our exclusive investment opportunity! Start earning thousands of dollars in just days!\", \"spam\"], \n",
    "                    3: [\"Limited time offer: Buy one, get one free on all our miracle weight loss pills! Shed those pounds effortlessly!\", \"spam\"], \n",
    "                    4: [\"Act now to secure your inheritance from a distant relative! Just provide your bank details to receive your windfall!\", \"spam\"], \n",
    "                    5: [\"Don't miss out on our amazing deals! Shop now for discounts up to 90% off on brand-name electronics and fashion items!\", \"spam\"], \n",
    "\n",
    "                    6: [\"Thank you for your recent purchase! Your order has been successfully processed and will be shipped within the next 24 hours.\", \"ham\"], \n",
    "                    7: [\"Reminder: Your subscription to our newsletter is expiring soon. Click here to renew and stay updated with our latest offers and updates.\", \"ham\"], \n",
    "                    8: [\"We appreciate your feedback! Please take a moment to complete our survey and help us improve our products and services.\", \"ham\"], \n",
    "                    9: [\"Invitation: Join us for our upcoming webinar on 'Effective Time Management Strategies'. Register now to reserve your spot!\", \"ham\"], \n",
    "                    10: [\"Happy Birthday! As a token of our appreciation, enjoy a special discount of 20% off your next purchase. Use code BDAY20 at checkout.\", \"ham\"], \n",
    "                   }"
   ]
  },
  {
   "cell_type": "code",
   "execution_count": null,
   "id": "111eb1a8-8393-4e40-a586-67ae4962e57a",
   "metadata": {},
   "outputs": [],
   "source": [
    "# Incrementally retrain the loaded model on new test samples one-by-one \n",
    "for key, value in new_test_samples.items():\n",
    "    model.fit_one(value[0], value[1])"
   ]
  },
  {
   "cell_type": "code",
   "execution_count": null,
   "id": "36e1a0e3-ac20-4180-abaa-f8c73e311ccd",
   "metadata": {},
   "outputs": [],
   "source": [
    "# New Output Classes can also be added to the ML model with this apprach \n",
    "\n",
    "# Adding new output class - uncertain\n",
    "uncertain_samples = {1: [\"Quick question: Are you interested in boosting your income?\", \"uncertain\"], \n",
    "                     1: [\"Special offer: Limited-time discount on select products.\", \"uncertain\"], \n",
    "                     1: [\"Important notice: Action required to update your account information.\", \"uncertain\"], \n",
    "                     1: [\"Exciting opportunity: Join our exclusive membership program.\", \"uncertain\"], \n",
    "                     1: [\"Urgent request: Please review and respond to this message promptly.\", \"uncertain\"], \n",
    "                   }\n",
    "\n",
    "for key, value in new_test_samples.items():\n",
    "    model.fit_one(value[0], value[1])"
   ]
  },
  {
   "cell_type": "markdown",
   "id": "12853417-f994-4ebf-a875-889e3340920c",
   "metadata": {},
   "source": [
    "# Segment-3: Apply the Incrementally Retrained ML Model in Production "
   ]
  },
  {
   "cell_type": "code",
   "execution_count": null,
   "id": "2a9c3112-72ac-4070-9bc6-398df2f99561",
   "metadata": {},
   "outputs": [],
   "source": [
    "# Real-time Prediction using the ML model V 1.1\n",
    "\n",
    "user_input = \"Thank you for joining our community! You are receiving this newsletter as a result of your subscription request.\"\n",
    "prediction = model.predict_one(user_input)\n",
    "\n",
    "print(prediction) # ham or spam or uncertain "
   ]
  },
  {
   "cell_type": "markdown",
   "id": "2054361c-f9c2-45cd-b2cd-4de28530cf2c",
   "metadata": {},
   "source": [
    "__Repeat Segments 2 and 3 for continuous model updates on the latest user data.__"
   ]
  }
 ],
 "metadata": {
  "kernelspec": {
   "display_name": "Python 3 (ipykernel)",
   "language": "python",
   "name": "python3"
  },
  "language_info": {
   "codemirror_mode": {
    "name": "ipython",
    "version": 3
   },
   "file_extension": ".py",
   "mimetype": "text/x-python",
   "name": "python",
   "nbconvert_exporter": "python",
   "pygments_lexer": "ipython3",
   "version": "3.11.7"
  }
 },
 "nbformat": 4,
 "nbformat_minor": 5
}
